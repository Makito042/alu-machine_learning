{
  "cells": [
    {
      "cell_type": "markdown",
      "metadata": {
        "id": "xyATLU4z1cYj"
      },
      "source": [
        "\n",
        "\n",
        "<center>\n",
        "    <img src=\"https://miro.medium.com/v2/resize:fit:300/1*mgncZaKaVx9U6OCQu_m8Bg.jpeg\">\n",
        "</center>\n",
        "\n",
        "\n",
        "\n",
        "The goal of PCA is to extract information while reducing the number of features\n",
        "from a dataset by identifying which existing features relate to another. The crux of the algorithm is trying to determine the relationship between existing features, called principal components, and then quantifying how relevant these principal components are. The principal components are used to transform the high dimensional data to a lower dimensional data while preserving as much information. For a principal component to be relevant, it needs to capture information about the features. We can determine the relationships between features using covariance."
      ]
    },
    {
      "cell_type": "code",
      "execution_count": 83,
      "metadata": {
        "id": "UTntK0eUNimH"
      },
      "outputs": [],
      "source": [
        "#import necessary package\n",
        "#TO DO\n",
        "import numpy as np\n",
        "import pandas as pd\n",
        "from sklearn.preprocessing import StandardScaler"
      ]
    },
    {
      "cell_type": "code",
      "execution_count": 84,
      "metadata": {
        "id": "qWaiAdz8PyKp"
      },
      "outputs": [],
      "source": [
        "data = np.array([\n",
        "    [   1,   2,  -1,   4,  10],\n",
        "    [   3,  -3,  -3,  12, -15],\n",
        "    [   2,   1,  -2,   4,   5],\n",
        "    [   5,   1,  -5,  10,   5],\n",
        "    [   2,   3,  -3,   5,  12],\n",
        "    [   4,   0,  -3,  16,   2],\n",
        "])"
      ]
    },
    {
      "cell_type": "markdown",
      "metadata": {
        "id": "U2U2_Q5ebos3"
      },
      "source": [
        "### Step 1: Standardize the Data along the Features\n",
        "\n",
        "![image.png](https://encrypted-tbn0.gstatic.com/images?q=tbn:ANd9GcQLxe5VYCBsaZddkkTZlCY24Yov4JJD4-ArTA&usqp=CAU)\n",
        "\n",
        "\n",
        "\n",
        "\n",
        "Explain why we need to handle the data on the same scale.\n",
        "\n",
        "- **Answer:** Standardization ensures that each feature contributes equally to the principal components, preventing features with relatively larger magnitudes from dominating the analysis, which can lead to biased results."
      ]
    },
    {
      "cell_type": "code",
      "execution_count": 85,
      "metadata": {
        "id": "JF3eGB7FRC0A"
      },
      "outputs": [
        {
          "data": {
            "text/plain": [
              "array([[-1.36438208,  0.70710678,  1.5109662 , -0.99186978,  0.77802924],\n",
              "       [ 0.12403473, -1.94454365, -0.13736056,  0.77145428, -2.06841919],\n",
              "       [-0.62017367,  0.1767767 ,  0.68680282, -0.99186978,  0.20873955],\n",
              "       [ 1.61245155,  0.1767767 , -1.78568733,  0.33062326,  0.20873955],\n",
              "       [-0.62017367,  1.23743687, -0.13736056, -0.77145428,  1.00574511],\n",
              "       [ 0.86824314, -0.35355339, -0.13736056,  1.65311631, -0.13283426]])"
            ]
          },
          "execution_count": 85,
          "metadata": {},
          "output_type": "execute_result"
        }
      ],
      "source": [
        "scaler = StandardScaler()\n",
        "standardized_data = scaler.fit_transform(data)\n",
        "standardized_data"
      ]
    },
    {
      "cell_type": "markdown",
      "metadata": {
        "id": "7rzoiQ7fMk_d"
      },
      "source": [
        "![cov matrix.webp](https://dmitry.ai/uploads/default/original/1X/9bd2851674ebb55e404cc3ff5e2ffe65b42ff460.png)\n",
        "\n",
        "We use the pair - wise covariance of the different features to determine how they relate to each other. With these covariances, our goal is to group / cluster based on similar patterns. Intuitively, we can relate features if they have similar covariances with other features."
      ]
    },
    {
      "cell_type": "markdown",
      "metadata": {
        "id": "uuhux3UEcBgw"
      },
      "source": [
        "### Step 2: Calculate the Covariance Matrix\n",
        "\n"
      ]
    },
    {
      "cell_type": "code",
      "execution_count": 86,
      "metadata": {
        "colab": {
          "base_uri": "https://localhost:8080/"
        },
        "id": "qn8oujZlK9YR",
        "outputId": "cfa91ded-287c-488f-c7d4-7ce430ea66cf"
      },
      "outputs": [
        {
          "name": "stdout",
          "output_type": "stream",
          "text": [
            "[[ 1.2        -0.42098785 -1.0835838   0.90219291 -0.37000528]\n",
            " [-0.42098785  1.2         0.20397003 -0.77149364  1.18751836]\n",
            " [-1.0835838   0.20397003  1.2        -0.59947269  0.22208218]\n",
            " [ 0.90219291 -0.77149364 -0.59947269  1.2        -0.70017993]\n",
            " [-0.37000528  1.18751836  0.22208218 -0.70017993  1.2       ]]\n"
          ]
        }
      ],
      "source": [
        "cov_matrix = np.cov(standardized_data, rowvar=False)\n",
        "\n",
        "print(cov_matrix)"
      ]
    },
    {
      "cell_type": "markdown",
      "metadata": {
        "id": "uXNcG4AFcT08"
      },
      "source": [
        "### Step 3: Eigendecomposition on the Covariance Matrix\n",
        "\n",
        "> Add blockquote\n",
        "\n",
        "\n"
      ]
    },
    {
      "cell_type": "code",
      "execution_count": 87,
      "metadata": {
        "id": "dmGlQ47tRO5w"
      },
      "outputs": [
        {
          "name": "stdout",
          "output_type": "stream",
          "text": [
            "[3.80985761e+00 1.73655615e+00 4.94531029e-02 4.74189469e-05\n",
            " 4.04085720e-01]\n",
            "[[-0.4640131   0.45182808 -0.70733581  0.28128049 -0.03317471]\n",
            " [ 0.45019005  0.48800851  0.29051532  0.6706731  -0.15803498]\n",
            " [ 0.37929082 -0.55665017 -0.48462321  0.24186072 -0.5029143 ]\n",
            " [-0.4976889   0.03162214  0.36999674 -0.03373724 -0.78311558]\n",
            " [ 0.43642295  0.49682965 -0.20861365 -0.64143906 -0.32822489]]\n"
          ]
        }
      ],
      "source": [
        "eigenvalues, eigenvectors = np.linalg.eig(cov_matrix)\n",
        "print(eigenvalues)\n",
        "print(eigenvectors)"
      ]
    },
    {
      "cell_type": "markdown",
      "metadata": {
        "id": "4pWho88fcbJA"
      },
      "source": [
        "### Step 4: Sort the Principal Components\n",
        "# np.argsort can only provide lowest to highest; use [::-1] to reverse the list"
      ]
    },
    {
      "cell_type": "code",
      "execution_count": 88,
      "metadata": {
        "colab": {
          "base_uri": "https://localhost:8080/"
        },
        "id": "_znKtzdrTmMg",
        "outputId": "823e9389-f08c-45a1-c181-1cf0589a2a94"
      },
      "outputs": [
        {
          "name": "stdout",
          "output_type": "stream",
          "text": [
            "the order of importance is :\n",
            " [0 1 4 2 3]\n",
            "\n",
            "\n",
            " sorted eigen values:\n",
            "[3.80985761e+00 1.73655615e+00 4.04085720e-01 4.94531029e-02\n",
            " 4.74189469e-05]\n",
            "\n",
            "\n",
            " The sorted eigen vector matrix is: \n",
            " [[-0.4640131   0.45182808 -0.03317471 -0.70733581  0.28128049]\n",
            " [ 0.45019005  0.48800851 -0.15803498  0.29051532  0.6706731 ]\n",
            " [ 0.37929082 -0.55665017 -0.5029143  -0.48462321  0.24186072]\n",
            " [-0.4976889   0.03162214 -0.78311558  0.36999674 -0.03373724]\n",
            " [ 0.43642295  0.49682965 -0.32822489 -0.20861365 -0.64143906]]\n"
          ]
        }
      ],
      "source": [
        "# np.argsort can only provide lowest to highest; use [::-1] to reverse the list\n",
        "\n",
        "order_of_importance = np.argsort(eigenvalues)[::-1]\n",
        "print ( 'the order of importance is :\\n {}'.format(order_of_importance))\n",
        "\n",
        "# utilize the sort order to sort eigenvalues and eigenvectors\n",
        "sorted_eigenvalues = eigenvalues[order_of_importance]\n",
        "\n",
        "print('\\n\\n sorted eigen values:\\n{}'.format(sorted_eigenvalues))\n",
        "sorted_eigenvectors = eigenvectors[:, order_of_importance]  # sort the columns\n",
        "print('\\n\\n The sorted eigen vector matrix is: \\n {}'.format(sorted_eigenvectors))"
      ]
    },
    {
      "cell_type": "markdown",
      "metadata": {
        "id": "o1nILNGxpTJB"
      },
      "source": [
        "Question:\n",
        "\n",
        "1. Why do we order eigen values and eigen vectors?\n",
        "\n",
        "We order eigenvalues and eigenvectors in order to focus on the components that capture the most variance, making PCA both more informative and efficient for dimensionality reduction.\n",
        "\n",
        "2. Is it true we would consider the lowest eigen value compared to the highest? Defend your answer\n",
        "\n",
        "No, we typically would not consider the lowest eigenvalue compared to the highest in Principal Component Analysis (PCA). Larger eigenvalues indicate that the corresponding principal components capture more of the variance in the data, representing more important features. Remember that the goal of PCA is to maximize the variance and retain as much information as possible, so we focus on the principal components with the highest eigenvalues, as they contribute the most to the data's structure."
      ]
    },
    {
      "cell_type": "markdown",
      "metadata": {
        "id": "BWqFGNeNvgEB"
      },
      "source": [
        "You want to see what percentage of information each eigen value holds. You would have print out the percentage of each eigen value using the formula\n",
        "\n",
        "\n",
        "\n",
        "> (sorted eigen values / sum of all sorted eigen values) * 100\n",
        "\n"
      ]
    },
    {
      "cell_type": "code",
      "execution_count": 89,
      "metadata": {
        "colab": {
          "base_uri": "https://localhost:8080/"
        },
        "id": "bRMHrffrVOXR",
        "outputId": "fc22f63d-fa30-4c56-b849-829e6f21b7d1"
      },
      "outputs": [
        {
          "name": "stdout",
          "output_type": "stream",
          "text": [
            "['63.50%', '28.94%', '6.73%', '0.82%', '0.00%']\n"
          ]
        }
      ],
      "source": [
        "# use sorted_eigenvalues to ensure the explained variances correspond to the eigenvectors\n",
        "\n",
        "#TO DO: Insert code here\n",
        "explained_variance = sorted_eigenvalues / np.sum(sorted_eigenvalues) * 100\n",
        "explained_variance =[\"{:.2f}%\".format(value) for value in explained_variance]\n",
        "print( explained_variance)"
      ]
    },
    {
      "cell_type": "markdown",
      "metadata": {
        "id": "qB7H4InbfKx5"
      },
      "source": [
        "## Initialize the number of Principle components then perfrom matrix multiplication with the variable K example k = 3 for 3 priciple components\n",
        "\n",
        "\n",
        "\n",
        "\n",
        "> The reulting matrix (with reduced data) = standardized data * vector with columns k\n",
        "\n",
        "See expected output for k = 2\n",
        "\n"
      ]
    },
    {
      "cell_type": "code",
      "execution_count": 90,
      "metadata": {
        "id": "C-Rnyq6QVTiz"
      },
      "outputs": [],
      "source": [
        "k = 2\n",
        "top_k_eigenvectors = eigenvectors[:, :k]\n",
        "reduced_data = np.matmul(standardized_data, top_k_eigenvectors)"
      ]
    },
    {
      "cell_type": "code",
      "execution_count": 91,
      "metadata": {
        "colab": {
          "base_uri": "https://localhost:8080/"
        },
        "id": "JxxBcgQMXe1h",
        "outputId": "76eb09ad-ace9-4d15-bb2b-59b67d8092fa"
      },
      "outputs": [
        {
          "name": "stdout",
          "output_type": "stream",
          "text": [
            "[[ 2.3577116  -0.75728867]\n",
            " [-2.27171739 -1.81970663]\n",
            " [ 1.21259114 -0.50390931]\n",
            " [-1.41935914  1.9229856 ]\n",
            " [ 1.61562536  0.87541857]\n",
            " [-1.49485157  0.28250044]]\n"
          ]
        }
      ],
      "source": [
        "print(reduced_data)"
      ]
    },
    {
      "cell_type": "code",
      "execution_count": 92,
      "metadata": {
        "colab": {
          "base_uri": "https://localhost:8080/"
        },
        "id": "PNEqS6cuaMSY",
        "outputId": "78e448df-45c8-45d7-dbfb-6bf810f2a486"
      },
      "outputs": [
        {
          "name": "stdout",
          "output_type": "stream",
          "text": [
            "(6, 2)\n"
          ]
        }
      ],
      "source": [
        "print(reduced_data.shape)"
      ]
    },
    {
      "cell_type": "markdown",
      "metadata": {
        "id": "UxQ8lTunauMQ"
      },
      "source": [
        "# *What are 2 positive effects and 2 negative effects of PCA\n",
        "\n",
        "Give 2 Benefits and 2 limitations\n",
        "### **BENEFITS:**\n",
        "- PCA helps to reduce the number of features used in training our model which in turn, reduces computation time and resources.\n",
        "- PCA helps us focus more on components with most variance and filter out less important components which reduces noise in our training data therby improving the data quality.\n",
        "\n",
        "### **LIMITATIONS:**\n",
        "- Sometimes, we end up discarding too many dimensions/features with low variance which may lead to loss of important information.\n",
        "- It introduces the complexity of understanding what each of the newly engineered features represents which may make the data harder to interpret."
      ]
    },
    {
      "cell_type": "markdown",
      "metadata": {},
      "source": [
        "# SECTION 2\n",
        "## Perform PCA on the fuel_econ dataset"
      ]
    },
    {
      "cell_type": "code",
      "execution_count": 93,
      "metadata": {},
      "outputs": [
        {
          "data": {
            "text/html": [
              "<div>\n",
              "<style scoped>\n",
              "    .dataframe tbody tr th:only-of-type {\n",
              "        vertical-align: middle;\n",
              "    }\n",
              "\n",
              "    .dataframe tbody tr th {\n",
              "        vertical-align: top;\n",
              "    }\n",
              "\n",
              "    .dataframe thead th {\n",
              "        text-align: right;\n",
              "    }\n",
              "</style>\n",
              "<table border=\"1\" class=\"dataframe\">\n",
              "  <thead>\n",
              "    <tr style=\"text-align: right;\">\n",
              "      <th></th>\n",
              "      <th>id</th>\n",
              "      <th>make</th>\n",
              "      <th>model</th>\n",
              "      <th>year</th>\n",
              "      <th>VClass</th>\n",
              "      <th>drive</th>\n",
              "      <th>trans</th>\n",
              "      <th>fuelType</th>\n",
              "      <th>cylinders</th>\n",
              "      <th>displ</th>\n",
              "      <th>pv2</th>\n",
              "      <th>pv4</th>\n",
              "      <th>city</th>\n",
              "      <th>UCity</th>\n",
              "      <th>highway</th>\n",
              "      <th>UHighway</th>\n",
              "      <th>comb</th>\n",
              "      <th>co2</th>\n",
              "      <th>feScore</th>\n",
              "      <th>ghgScore</th>\n",
              "    </tr>\n",
              "  </thead>\n",
              "  <tbody>\n",
              "    <tr>\n",
              "      <th>0</th>\n",
              "      <td>32204</td>\n",
              "      <td>Nissan</td>\n",
              "      <td>GT-R</td>\n",
              "      <td>2013</td>\n",
              "      <td>Subcompact Cars</td>\n",
              "      <td>All-Wheel Drive</td>\n",
              "      <td>Automatic (AM6)</td>\n",
              "      <td>Premium Gasoline</td>\n",
              "      <td>6</td>\n",
              "      <td>3.8</td>\n",
              "      <td>79</td>\n",
              "      <td>0</td>\n",
              "      <td>16.4596</td>\n",
              "      <td>20.2988</td>\n",
              "      <td>22.5568</td>\n",
              "      <td>30.1798</td>\n",
              "      <td>18.7389</td>\n",
              "      <td>471</td>\n",
              "      <td>4</td>\n",
              "      <td>4</td>\n",
              "    </tr>\n",
              "    <tr>\n",
              "      <th>1</th>\n",
              "      <td>32205</td>\n",
              "      <td>Volkswagen</td>\n",
              "      <td>CC</td>\n",
              "      <td>2013</td>\n",
              "      <td>Compact Cars</td>\n",
              "      <td>Front-Wheel Drive</td>\n",
              "      <td>Automatic (AM-S6)</td>\n",
              "      <td>Premium Gasoline</td>\n",
              "      <td>4</td>\n",
              "      <td>2.0</td>\n",
              "      <td>94</td>\n",
              "      <td>0</td>\n",
              "      <td>21.8706</td>\n",
              "      <td>26.9770</td>\n",
              "      <td>31.0367</td>\n",
              "      <td>42.4936</td>\n",
              "      <td>25.2227</td>\n",
              "      <td>349</td>\n",
              "      <td>6</td>\n",
              "      <td>6</td>\n",
              "    </tr>\n",
              "    <tr>\n",
              "      <th>2</th>\n",
              "      <td>32206</td>\n",
              "      <td>Volkswagen</td>\n",
              "      <td>CC</td>\n",
              "      <td>2013</td>\n",
              "      <td>Compact Cars</td>\n",
              "      <td>Front-Wheel Drive</td>\n",
              "      <td>Automatic (S6)</td>\n",
              "      <td>Premium Gasoline</td>\n",
              "      <td>6</td>\n",
              "      <td>3.6</td>\n",
              "      <td>94</td>\n",
              "      <td>0</td>\n",
              "      <td>17.4935</td>\n",
              "      <td>21.2000</td>\n",
              "      <td>26.5716</td>\n",
              "      <td>35.1000</td>\n",
              "      <td>20.6716</td>\n",
              "      <td>429</td>\n",
              "      <td>5</td>\n",
              "      <td>5</td>\n",
              "    </tr>\n",
              "    <tr>\n",
              "      <th>3</th>\n",
              "      <td>32207</td>\n",
              "      <td>Volkswagen</td>\n",
              "      <td>CC 4motion</td>\n",
              "      <td>2013</td>\n",
              "      <td>Compact Cars</td>\n",
              "      <td>All-Wheel Drive</td>\n",
              "      <td>Automatic (S6)</td>\n",
              "      <td>Premium Gasoline</td>\n",
              "      <td>6</td>\n",
              "      <td>3.6</td>\n",
              "      <td>94</td>\n",
              "      <td>0</td>\n",
              "      <td>16.9415</td>\n",
              "      <td>20.5000</td>\n",
              "      <td>25.2190</td>\n",
              "      <td>33.5000</td>\n",
              "      <td>19.8774</td>\n",
              "      <td>446</td>\n",
              "      <td>5</td>\n",
              "      <td>5</td>\n",
              "    </tr>\n",
              "    <tr>\n",
              "      <th>4</th>\n",
              "      <td>32208</td>\n",
              "      <td>Chevrolet</td>\n",
              "      <td>Malibu eAssist</td>\n",
              "      <td>2013</td>\n",
              "      <td>Midsize Cars</td>\n",
              "      <td>Front-Wheel Drive</td>\n",
              "      <td>Automatic (S6)</td>\n",
              "      <td>Regular Gasoline</td>\n",
              "      <td>4</td>\n",
              "      <td>2.4</td>\n",
              "      <td>0</td>\n",
              "      <td>95</td>\n",
              "      <td>24.7726</td>\n",
              "      <td>31.9796</td>\n",
              "      <td>35.5340</td>\n",
              "      <td>51.8816</td>\n",
              "      <td>28.6813</td>\n",
              "      <td>310</td>\n",
              "      <td>8</td>\n",
              "      <td>8</td>\n",
              "    </tr>\n",
              "    <tr>\n",
              "      <th>5</th>\n",
              "      <td>32209</td>\n",
              "      <td>Lexus</td>\n",
              "      <td>GS 350</td>\n",
              "      <td>2013</td>\n",
              "      <td>Midsize Cars</td>\n",
              "      <td>Rear-Wheel Drive</td>\n",
              "      <td>Automatic (S6)</td>\n",
              "      <td>Premium Gasoline</td>\n",
              "      <td>6</td>\n",
              "      <td>3.5</td>\n",
              "      <td>0</td>\n",
              "      <td>99</td>\n",
              "      <td>19.4325</td>\n",
              "      <td>24.1499</td>\n",
              "      <td>28.2234</td>\n",
              "      <td>38.5000</td>\n",
              "      <td>22.6002</td>\n",
              "      <td>393</td>\n",
              "      <td>6</td>\n",
              "      <td>6</td>\n",
              "    </tr>\n",
              "    <tr>\n",
              "      <th>6</th>\n",
              "      <td>32210</td>\n",
              "      <td>Lexus</td>\n",
              "      <td>GS 350 AWD</td>\n",
              "      <td>2013</td>\n",
              "      <td>Midsize Cars</td>\n",
              "      <td>All-Wheel Drive</td>\n",
              "      <td>Automatic (S6)</td>\n",
              "      <td>Premium Gasoline</td>\n",
              "      <td>6</td>\n",
              "      <td>3.5</td>\n",
              "      <td>0</td>\n",
              "      <td>99</td>\n",
              "      <td>18.5752</td>\n",
              "      <td>23.5261</td>\n",
              "      <td>26.3573</td>\n",
              "      <td>36.2109</td>\n",
              "      <td>21.4213</td>\n",
              "      <td>412</td>\n",
              "      <td>5</td>\n",
              "      <td>5</td>\n",
              "    </tr>\n",
              "    <tr>\n",
              "      <th>7</th>\n",
              "      <td>32214</td>\n",
              "      <td>Hyundai</td>\n",
              "      <td>Genesis Coupe</td>\n",
              "      <td>2013</td>\n",
              "      <td>Subcompact Cars</td>\n",
              "      <td>Rear-Wheel Drive</td>\n",
              "      <td>Automatic 8-spd</td>\n",
              "      <td>Premium Gasoline</td>\n",
              "      <td>4</td>\n",
              "      <td>2.0</td>\n",
              "      <td>89</td>\n",
              "      <td>0</td>\n",
              "      <td>17.4460</td>\n",
              "      <td>21.7946</td>\n",
              "      <td>26.6295</td>\n",
              "      <td>37.6731</td>\n",
              "      <td>20.6507</td>\n",
              "      <td>432</td>\n",
              "      <td>5</td>\n",
              "      <td>5</td>\n",
              "    </tr>\n",
              "    <tr>\n",
              "      <th>8</th>\n",
              "      <td>32215</td>\n",
              "      <td>Hyundai</td>\n",
              "      <td>Genesis Coupe</td>\n",
              "      <td>2013</td>\n",
              "      <td>Subcompact Cars</td>\n",
              "      <td>Rear-Wheel Drive</td>\n",
              "      <td>Manual 6-spd</td>\n",
              "      <td>Premium Gasoline</td>\n",
              "      <td>4</td>\n",
              "      <td>2.0</td>\n",
              "      <td>89</td>\n",
              "      <td>0</td>\n",
              "      <td>20.6741</td>\n",
              "      <td>26.2000</td>\n",
              "      <td>29.2741</td>\n",
              "      <td>41.8000</td>\n",
              "      <td>23.8235</td>\n",
              "      <td>375</td>\n",
              "      <td>6</td>\n",
              "      <td>6</td>\n",
              "    </tr>\n",
              "    <tr>\n",
              "      <th>9</th>\n",
              "      <td>32216</td>\n",
              "      <td>Hyundai</td>\n",
              "      <td>Genesis Coupe</td>\n",
              "      <td>2013</td>\n",
              "      <td>Subcompact Cars</td>\n",
              "      <td>Rear-Wheel Drive</td>\n",
              "      <td>Automatic 8-spd</td>\n",
              "      <td>Premium Gasoline</td>\n",
              "      <td>6</td>\n",
              "      <td>3.8</td>\n",
              "      <td>89</td>\n",
              "      <td>0</td>\n",
              "      <td>16.4675</td>\n",
              "      <td>20.4839</td>\n",
              "      <td>24.5605</td>\n",
              "      <td>34.4972</td>\n",
              "      <td>19.3344</td>\n",
              "      <td>461</td>\n",
              "      <td>4</td>\n",
              "      <td>4</td>\n",
              "    </tr>\n",
              "  </tbody>\n",
              "</table>\n",
              "</div>"
            ],
            "text/plain": [
              "      id        make           model  year           VClass  \\\n",
              "0  32204      Nissan            GT-R  2013  Subcompact Cars   \n",
              "1  32205  Volkswagen              CC  2013     Compact Cars   \n",
              "2  32206  Volkswagen              CC  2013     Compact Cars   \n",
              "3  32207  Volkswagen      CC 4motion  2013     Compact Cars   \n",
              "4  32208   Chevrolet  Malibu eAssist  2013     Midsize Cars   \n",
              "5  32209       Lexus          GS 350  2013     Midsize Cars   \n",
              "6  32210       Lexus      GS 350 AWD  2013     Midsize Cars   \n",
              "7  32214     Hyundai   Genesis Coupe  2013  Subcompact Cars   \n",
              "8  32215     Hyundai   Genesis Coupe  2013  Subcompact Cars   \n",
              "9  32216     Hyundai   Genesis Coupe  2013  Subcompact Cars   \n",
              "\n",
              "               drive              trans          fuelType  cylinders  displ  \\\n",
              "0    All-Wheel Drive    Automatic (AM6)  Premium Gasoline          6    3.8   \n",
              "1  Front-Wheel Drive  Automatic (AM-S6)  Premium Gasoline          4    2.0   \n",
              "2  Front-Wheel Drive     Automatic (S6)  Premium Gasoline          6    3.6   \n",
              "3    All-Wheel Drive     Automatic (S6)  Premium Gasoline          6    3.6   \n",
              "4  Front-Wheel Drive     Automatic (S6)  Regular Gasoline          4    2.4   \n",
              "5   Rear-Wheel Drive     Automatic (S6)  Premium Gasoline          6    3.5   \n",
              "6    All-Wheel Drive     Automatic (S6)  Premium Gasoline          6    3.5   \n",
              "7   Rear-Wheel Drive    Automatic 8-spd  Premium Gasoline          4    2.0   \n",
              "8   Rear-Wheel Drive       Manual 6-spd  Premium Gasoline          4    2.0   \n",
              "9   Rear-Wheel Drive    Automatic 8-spd  Premium Gasoline          6    3.8   \n",
              "\n",
              "   pv2  pv4     city    UCity  highway  UHighway     comb  co2  feScore  \\\n",
              "0   79    0  16.4596  20.2988  22.5568   30.1798  18.7389  471        4   \n",
              "1   94    0  21.8706  26.9770  31.0367   42.4936  25.2227  349        6   \n",
              "2   94    0  17.4935  21.2000  26.5716   35.1000  20.6716  429        5   \n",
              "3   94    0  16.9415  20.5000  25.2190   33.5000  19.8774  446        5   \n",
              "4    0   95  24.7726  31.9796  35.5340   51.8816  28.6813  310        8   \n",
              "5    0   99  19.4325  24.1499  28.2234   38.5000  22.6002  393        6   \n",
              "6    0   99  18.5752  23.5261  26.3573   36.2109  21.4213  412        5   \n",
              "7   89    0  17.4460  21.7946  26.6295   37.6731  20.6507  432        5   \n",
              "8   89    0  20.6741  26.2000  29.2741   41.8000  23.8235  375        6   \n",
              "9   89    0  16.4675  20.4839  24.5605   34.4972  19.3344  461        4   \n",
              "\n",
              "   ghgScore  \n",
              "0         4  \n",
              "1         6  \n",
              "2         5  \n",
              "3         5  \n",
              "4         8  \n",
              "5         6  \n",
              "6         5  \n",
              "7         5  \n",
              "8         6  \n",
              "9         4  "
            ]
          },
          "execution_count": 93,
          "metadata": {},
          "output_type": "execute_result"
        }
      ],
      "source": [
        "df = pd.read_csv(\"../../plotting/datasets/fuel_econ.csv\")\n",
        "df.head(10)"
      ]
    },
    {
      "cell_type": "code",
      "execution_count": 94,
      "metadata": {},
      "outputs": [
        {
          "data": {
            "text/html": [
              "<div>\n",
              "<style scoped>\n",
              "    .dataframe tbody tr th:only-of-type {\n",
              "        vertical-align: middle;\n",
              "    }\n",
              "\n",
              "    .dataframe tbody tr th {\n",
              "        vertical-align: top;\n",
              "    }\n",
              "\n",
              "    .dataframe thead th {\n",
              "        text-align: right;\n",
              "    }\n",
              "</style>\n",
              "<table border=\"1\" class=\"dataframe\">\n",
              "  <thead>\n",
              "    <tr style=\"text-align: right;\">\n",
              "      <th></th>\n",
              "      <th>id</th>\n",
              "      <th>year</th>\n",
              "      <th>cylinders</th>\n",
              "      <th>displ</th>\n",
              "      <th>pv2</th>\n",
              "      <th>pv4</th>\n",
              "      <th>city</th>\n",
              "      <th>UCity</th>\n",
              "      <th>highway</th>\n",
              "      <th>UHighway</th>\n",
              "      <th>comb</th>\n",
              "      <th>co2</th>\n",
              "      <th>feScore</th>\n",
              "      <th>ghgScore</th>\n",
              "    </tr>\n",
              "  </thead>\n",
              "  <tbody>\n",
              "    <tr>\n",
              "      <th>id</th>\n",
              "      <td>1.000000</td>\n",
              "      <td>0.985668</td>\n",
              "      <td>-0.060096</td>\n",
              "      <td>-0.074666</td>\n",
              "      <td>-0.006569</td>\n",
              "      <td>-0.021951</td>\n",
              "      <td>0.091800</td>\n",
              "      <td>0.091225</td>\n",
              "      <td>0.090593</td>\n",
              "      <td>0.095359</td>\n",
              "      <td>0.093803</td>\n",
              "      <td>-0.099717</td>\n",
              "      <td>-0.127873</td>\n",
              "      <td>-0.122321</td>\n",
              "    </tr>\n",
              "    <tr>\n",
              "      <th>year</th>\n",
              "      <td>0.985668</td>\n",
              "      <td>1.000000</td>\n",
              "      <td>-0.055313</td>\n",
              "      <td>-0.070424</td>\n",
              "      <td>0.006232</td>\n",
              "      <td>-0.033643</td>\n",
              "      <td>0.068050</td>\n",
              "      <td>0.066742</td>\n",
              "      <td>0.073290</td>\n",
              "      <td>0.077641</td>\n",
              "      <td>0.071993</td>\n",
              "      <td>-0.081165</td>\n",
              "      <td>-0.149829</td>\n",
              "      <td>-0.145141</td>\n",
              "    </tr>\n",
              "    <tr>\n",
              "      <th>cylinders</th>\n",
              "      <td>-0.060096</td>\n",
              "      <td>-0.055313</td>\n",
              "      <td>1.000000</td>\n",
              "      <td>0.933872</td>\n",
              "      <td>0.247571</td>\n",
              "      <td>-0.004264</td>\n",
              "      <td>-0.693103</td>\n",
              "      <td>-0.666029</td>\n",
              "      <td>-0.766275</td>\n",
              "      <td>-0.771503</td>\n",
              "      <td>-0.738023</td>\n",
              "      <td>0.848274</td>\n",
              "      <td>-0.783858</td>\n",
              "      <td>-0.781815</td>\n",
              "    </tr>\n",
              "    <tr>\n",
              "      <th>displ</th>\n",
              "      <td>-0.074666</td>\n",
              "      <td>-0.070424</td>\n",
              "      <td>0.933872</td>\n",
              "      <td>1.000000</td>\n",
              "      <td>0.259336</td>\n",
              "      <td>0.022072</td>\n",
              "      <td>-0.713479</td>\n",
              "      <td>-0.686166</td>\n",
              "      <td>-0.783984</td>\n",
              "      <td>-0.788457</td>\n",
              "      <td>-0.758397</td>\n",
              "      <td>0.855375</td>\n",
              "      <td>-0.793432</td>\n",
              "      <td>-0.791216</td>\n",
              "    </tr>\n",
              "    <tr>\n",
              "      <th>pv2</th>\n",
              "      <td>-0.006569</td>\n",
              "      <td>0.006232</td>\n",
              "      <td>0.247571</td>\n",
              "      <td>0.259336</td>\n",
              "      <td>1.000000</td>\n",
              "      <td>-0.665642</td>\n",
              "      <td>-0.278109</td>\n",
              "      <td>-0.272546</td>\n",
              "      <td>-0.296808</td>\n",
              "      <td>-0.298504</td>\n",
              "      <td>-0.290883</td>\n",
              "      <td>0.287200</td>\n",
              "      <td>-0.296088</td>\n",
              "      <td>-0.293156</td>\n",
              "    </tr>\n",
              "    <tr>\n",
              "      <th>pv4</th>\n",
              "      <td>-0.021951</td>\n",
              "      <td>-0.033643</td>\n",
              "      <td>-0.004264</td>\n",
              "      <td>0.022072</td>\n",
              "      <td>-0.665642</td>\n",
              "      <td>1.000000</td>\n",
              "      <td>0.035188</td>\n",
              "      <td>0.037869</td>\n",
              "      <td>0.074952</td>\n",
              "      <td>0.077442</td>\n",
              "      <td>0.047333</td>\n",
              "      <td>-0.050153</td>\n",
              "      <td>0.064876</td>\n",
              "      <td>0.065263</td>\n",
              "    </tr>\n",
              "    <tr>\n",
              "      <th>city</th>\n",
              "      <td>0.091800</td>\n",
              "      <td>0.068050</td>\n",
              "      <td>-0.693103</td>\n",
              "      <td>-0.713479</td>\n",
              "      <td>-0.278109</td>\n",
              "      <td>0.035188</td>\n",
              "      <td>1.000000</td>\n",
              "      <td>0.996377</td>\n",
              "      <td>0.915435</td>\n",
              "      <td>0.909658</td>\n",
              "      <td>0.989552</td>\n",
              "      <td>-0.904305</td>\n",
              "      <td>0.905681</td>\n",
              "      <td>0.898793</td>\n",
              "    </tr>\n",
              "    <tr>\n",
              "      <th>UCity</th>\n",
              "      <td>0.091225</td>\n",
              "      <td>0.066742</td>\n",
              "      <td>-0.666029</td>\n",
              "      <td>-0.686166</td>\n",
              "      <td>-0.272546</td>\n",
              "      <td>0.037869</td>\n",
              "      <td>0.996377</td>\n",
              "      <td>1.000000</td>\n",
              "      <td>0.899557</td>\n",
              "      <td>0.897814</td>\n",
              "      <td>0.981106</td>\n",
              "      <td>-0.885823</td>\n",
              "      <td>0.891297</td>\n",
              "      <td>0.884458</td>\n",
              "    </tr>\n",
              "    <tr>\n",
              "      <th>highway</th>\n",
              "      <td>0.090593</td>\n",
              "      <td>0.073290</td>\n",
              "      <td>-0.766275</td>\n",
              "      <td>-0.783984</td>\n",
              "      <td>-0.296808</td>\n",
              "      <td>0.074952</td>\n",
              "      <td>0.915435</td>\n",
              "      <td>0.899557</td>\n",
              "      <td>1.000000</td>\n",
              "      <td>0.992191</td>\n",
              "      <td>0.962757</td>\n",
              "      <td>-0.916456</td>\n",
              "      <td>0.914116</td>\n",
              "      <td>0.897585</td>\n",
              "    </tr>\n",
              "    <tr>\n",
              "      <th>UHighway</th>\n",
              "      <td>0.095359</td>\n",
              "      <td>0.077641</td>\n",
              "      <td>-0.771503</td>\n",
              "      <td>-0.788457</td>\n",
              "      <td>-0.298504</td>\n",
              "      <td>0.077442</td>\n",
              "      <td>0.909658</td>\n",
              "      <td>0.897814</td>\n",
              "      <td>0.992191</td>\n",
              "      <td>1.000000</td>\n",
              "      <td>0.956580</td>\n",
              "      <td>-0.912117</td>\n",
              "      <td>0.911355</td>\n",
              "      <td>0.894314</td>\n",
              "    </tr>\n",
              "    <tr>\n",
              "      <th>comb</th>\n",
              "      <td>0.093803</td>\n",
              "      <td>0.071993</td>\n",
              "      <td>-0.738023</td>\n",
              "      <td>-0.758397</td>\n",
              "      <td>-0.290883</td>\n",
              "      <td>0.047333</td>\n",
              "      <td>0.989552</td>\n",
              "      <td>0.981106</td>\n",
              "      <td>0.962757</td>\n",
              "      <td>0.956580</td>\n",
              "      <td>1.000000</td>\n",
              "      <td>-0.929399</td>\n",
              "      <td>0.928862</td>\n",
              "      <td>0.918807</td>\n",
              "    </tr>\n",
              "    <tr>\n",
              "      <th>co2</th>\n",
              "      <td>-0.099717</td>\n",
              "      <td>-0.081165</td>\n",
              "      <td>0.848274</td>\n",
              "      <td>0.855375</td>\n",
              "      <td>0.287200</td>\n",
              "      <td>-0.050153</td>\n",
              "      <td>-0.904305</td>\n",
              "      <td>-0.885823</td>\n",
              "      <td>-0.916456</td>\n",
              "      <td>-0.912117</td>\n",
              "      <td>-0.929399</td>\n",
              "      <td>1.000000</td>\n",
              "      <td>-0.940624</td>\n",
              "      <td>-0.944566</td>\n",
              "    </tr>\n",
              "    <tr>\n",
              "      <th>feScore</th>\n",
              "      <td>-0.127873</td>\n",
              "      <td>-0.149829</td>\n",
              "      <td>-0.783858</td>\n",
              "      <td>-0.793432</td>\n",
              "      <td>-0.296088</td>\n",
              "      <td>0.064876</td>\n",
              "      <td>0.905681</td>\n",
              "      <td>0.891297</td>\n",
              "      <td>0.914116</td>\n",
              "      <td>0.911355</td>\n",
              "      <td>0.928862</td>\n",
              "      <td>-0.940624</td>\n",
              "      <td>1.000000</td>\n",
              "      <td>0.994231</td>\n",
              "    </tr>\n",
              "    <tr>\n",
              "      <th>ghgScore</th>\n",
              "      <td>-0.122321</td>\n",
              "      <td>-0.145141</td>\n",
              "      <td>-0.781815</td>\n",
              "      <td>-0.791216</td>\n",
              "      <td>-0.293156</td>\n",
              "      <td>0.065263</td>\n",
              "      <td>0.898793</td>\n",
              "      <td>0.884458</td>\n",
              "      <td>0.897585</td>\n",
              "      <td>0.894314</td>\n",
              "      <td>0.918807</td>\n",
              "      <td>-0.944566</td>\n",
              "      <td>0.994231</td>\n",
              "      <td>1.000000</td>\n",
              "    </tr>\n",
              "  </tbody>\n",
              "</table>\n",
              "</div>"
            ],
            "text/plain": [
              "                 id      year  cylinders     displ       pv2       pv4  \\\n",
              "id         1.000000  0.985668  -0.060096 -0.074666 -0.006569 -0.021951   \n",
              "year       0.985668  1.000000  -0.055313 -0.070424  0.006232 -0.033643   \n",
              "cylinders -0.060096 -0.055313   1.000000  0.933872  0.247571 -0.004264   \n",
              "displ     -0.074666 -0.070424   0.933872  1.000000  0.259336  0.022072   \n",
              "pv2       -0.006569  0.006232   0.247571  0.259336  1.000000 -0.665642   \n",
              "pv4       -0.021951 -0.033643  -0.004264  0.022072 -0.665642  1.000000   \n",
              "city       0.091800  0.068050  -0.693103 -0.713479 -0.278109  0.035188   \n",
              "UCity      0.091225  0.066742  -0.666029 -0.686166 -0.272546  0.037869   \n",
              "highway    0.090593  0.073290  -0.766275 -0.783984 -0.296808  0.074952   \n",
              "UHighway   0.095359  0.077641  -0.771503 -0.788457 -0.298504  0.077442   \n",
              "comb       0.093803  0.071993  -0.738023 -0.758397 -0.290883  0.047333   \n",
              "co2       -0.099717 -0.081165   0.848274  0.855375  0.287200 -0.050153   \n",
              "feScore   -0.127873 -0.149829  -0.783858 -0.793432 -0.296088  0.064876   \n",
              "ghgScore  -0.122321 -0.145141  -0.781815 -0.791216 -0.293156  0.065263   \n",
              "\n",
              "               city     UCity   highway  UHighway      comb       co2  \\\n",
              "id         0.091800  0.091225  0.090593  0.095359  0.093803 -0.099717   \n",
              "year       0.068050  0.066742  0.073290  0.077641  0.071993 -0.081165   \n",
              "cylinders -0.693103 -0.666029 -0.766275 -0.771503 -0.738023  0.848274   \n",
              "displ     -0.713479 -0.686166 -0.783984 -0.788457 -0.758397  0.855375   \n",
              "pv2       -0.278109 -0.272546 -0.296808 -0.298504 -0.290883  0.287200   \n",
              "pv4        0.035188  0.037869  0.074952  0.077442  0.047333 -0.050153   \n",
              "city       1.000000  0.996377  0.915435  0.909658  0.989552 -0.904305   \n",
              "UCity      0.996377  1.000000  0.899557  0.897814  0.981106 -0.885823   \n",
              "highway    0.915435  0.899557  1.000000  0.992191  0.962757 -0.916456   \n",
              "UHighway   0.909658  0.897814  0.992191  1.000000  0.956580 -0.912117   \n",
              "comb       0.989552  0.981106  0.962757  0.956580  1.000000 -0.929399   \n",
              "co2       -0.904305 -0.885823 -0.916456 -0.912117 -0.929399  1.000000   \n",
              "feScore    0.905681  0.891297  0.914116  0.911355  0.928862 -0.940624   \n",
              "ghgScore   0.898793  0.884458  0.897585  0.894314  0.918807 -0.944566   \n",
              "\n",
              "            feScore  ghgScore  \n",
              "id        -0.127873 -0.122321  \n",
              "year      -0.149829 -0.145141  \n",
              "cylinders -0.783858 -0.781815  \n",
              "displ     -0.793432 -0.791216  \n",
              "pv2       -0.296088 -0.293156  \n",
              "pv4        0.064876  0.065263  \n",
              "city       0.905681  0.898793  \n",
              "UCity      0.891297  0.884458  \n",
              "highway    0.914116  0.897585  \n",
              "UHighway   0.911355  0.894314  \n",
              "comb       0.928862  0.918807  \n",
              "co2       -0.940624 -0.944566  \n",
              "feScore    1.000000  0.994231  \n",
              "ghgScore   0.994231  1.000000  "
            ]
          },
          "execution_count": 94,
          "metadata": {},
          "output_type": "execute_result"
        }
      ],
      "source": [
        "corr_matrix = df.corr(numeric_only=True)\n",
        "corr_matrix"
      ]
    },
    {
      "cell_type": "code",
      "execution_count": 95,
      "metadata": {},
      "outputs": [
        {
          "data": {
            "text/html": [
              "<div>\n",
              "<style scoped>\n",
              "    .dataframe tbody tr th:only-of-type {\n",
              "        vertical-align: middle;\n",
              "    }\n",
              "\n",
              "    .dataframe tbody tr th {\n",
              "        vertical-align: top;\n",
              "    }\n",
              "\n",
              "    .dataframe thead th {\n",
              "        text-align: right;\n",
              "    }\n",
              "</style>\n",
              "<table border=\"1\" class=\"dataframe\">\n",
              "  <thead>\n",
              "    <tr style=\"text-align: right;\">\n",
              "      <th></th>\n",
              "      <th>cylinders</th>\n",
              "      <th>displ</th>\n",
              "      <th>city</th>\n",
              "      <th>UCity</th>\n",
              "      <th>highway</th>\n",
              "      <th>UHighway</th>\n",
              "      <th>comb</th>\n",
              "      <th>co2</th>\n",
              "      <th>feScore</th>\n",
              "      <th>ghgScore</th>\n",
              "    </tr>\n",
              "  </thead>\n",
              "  <tbody>\n",
              "    <tr>\n",
              "      <th>0</th>\n",
              "      <td>6</td>\n",
              "      <td>3.8</td>\n",
              "      <td>16.4596</td>\n",
              "      <td>20.2988</td>\n",
              "      <td>22.5568</td>\n",
              "      <td>30.1798</td>\n",
              "      <td>18.7389</td>\n",
              "      <td>471</td>\n",
              "      <td>4</td>\n",
              "      <td>4</td>\n",
              "    </tr>\n",
              "    <tr>\n",
              "      <th>1</th>\n",
              "      <td>4</td>\n",
              "      <td>2.0</td>\n",
              "      <td>21.8706</td>\n",
              "      <td>26.9770</td>\n",
              "      <td>31.0367</td>\n",
              "      <td>42.4936</td>\n",
              "      <td>25.2227</td>\n",
              "      <td>349</td>\n",
              "      <td>6</td>\n",
              "      <td>6</td>\n",
              "    </tr>\n",
              "    <tr>\n",
              "      <th>2</th>\n",
              "      <td>6</td>\n",
              "      <td>3.6</td>\n",
              "      <td>17.4935</td>\n",
              "      <td>21.2000</td>\n",
              "      <td>26.5716</td>\n",
              "      <td>35.1000</td>\n",
              "      <td>20.6716</td>\n",
              "      <td>429</td>\n",
              "      <td>5</td>\n",
              "      <td>5</td>\n",
              "    </tr>\n",
              "    <tr>\n",
              "      <th>3</th>\n",
              "      <td>6</td>\n",
              "      <td>3.6</td>\n",
              "      <td>16.9415</td>\n",
              "      <td>20.5000</td>\n",
              "      <td>25.2190</td>\n",
              "      <td>33.5000</td>\n",
              "      <td>19.8774</td>\n",
              "      <td>446</td>\n",
              "      <td>5</td>\n",
              "      <td>5</td>\n",
              "    </tr>\n",
              "    <tr>\n",
              "      <th>4</th>\n",
              "      <td>4</td>\n",
              "      <td>2.4</td>\n",
              "      <td>24.7726</td>\n",
              "      <td>31.9796</td>\n",
              "      <td>35.5340</td>\n",
              "      <td>51.8816</td>\n",
              "      <td>28.6813</td>\n",
              "      <td>310</td>\n",
              "      <td>8</td>\n",
              "      <td>8</td>\n",
              "    </tr>\n",
              "    <tr>\n",
              "      <th>...</th>\n",
              "      <td>...</td>\n",
              "      <td>...</td>\n",
              "      <td>...</td>\n",
              "      <td>...</td>\n",
              "      <td>...</td>\n",
              "      <td>...</td>\n",
              "      <td>...</td>\n",
              "      <td>...</td>\n",
              "      <td>...</td>\n",
              "      <td>...</td>\n",
              "    </tr>\n",
              "    <tr>\n",
              "      <th>3924</th>\n",
              "      <td>4</td>\n",
              "      <td>1.8</td>\n",
              "      <td>55.2206</td>\n",
              "      <td>78.8197</td>\n",
              "      <td>53.0000</td>\n",
              "      <td>73.6525</td>\n",
              "      <td>54.4329</td>\n",
              "      <td>78</td>\n",
              "      <td>10</td>\n",
              "      <td>10</td>\n",
              "    </tr>\n",
              "    <tr>\n",
              "      <th>3925</th>\n",
              "      <td>4</td>\n",
              "      <td>2.0</td>\n",
              "      <td>39.0000</td>\n",
              "      <td>55.9000</td>\n",
              "      <td>44.3066</td>\n",
              "      <td>64.0000</td>\n",
              "      <td>41.0000</td>\n",
              "      <td>217</td>\n",
              "      <td>9</td>\n",
              "      <td>9</td>\n",
              "    </tr>\n",
              "    <tr>\n",
              "      <th>3926</th>\n",
              "      <td>4</td>\n",
              "      <td>2.0</td>\n",
              "      <td>40.0000</td>\n",
              "      <td>56.0000</td>\n",
              "      <td>46.0000</td>\n",
              "      <td>64.0000</td>\n",
              "      <td>42.0000</td>\n",
              "      <td>212</td>\n",
              "      <td>9</td>\n",
              "      <td>9</td>\n",
              "    </tr>\n",
              "    <tr>\n",
              "      <th>3927</th>\n",
              "      <td>6</td>\n",
              "      <td>3.4</td>\n",
              "      <td>19.2200</td>\n",
              "      <td>24.2000</td>\n",
              "      <td>30.2863</td>\n",
              "      <td>43.4000</td>\n",
              "      <td>23.0021</td>\n",
              "      <td>387</td>\n",
              "      <td>5</td>\n",
              "      <td>5</td>\n",
              "    </tr>\n",
              "    <tr>\n",
              "      <th>3928</th>\n",
              "      <td>6</td>\n",
              "      <td>3.4</td>\n",
              "      <td>18.0431</td>\n",
              "      <td>22.6000</td>\n",
              "      <td>27.0000</td>\n",
              "      <td>39.3000</td>\n",
              "      <td>21.3945</td>\n",
              "      <td>417</td>\n",
              "      <td>4</td>\n",
              "      <td>4</td>\n",
              "    </tr>\n",
              "  </tbody>\n",
              "</table>\n",
              "<p>3929 rows × 10 columns</p>\n",
              "</div>"
            ],
            "text/plain": [
              "      cylinders  displ     city    UCity  highway  UHighway     comb  co2  \\\n",
              "0             6    3.8  16.4596  20.2988  22.5568   30.1798  18.7389  471   \n",
              "1             4    2.0  21.8706  26.9770  31.0367   42.4936  25.2227  349   \n",
              "2             6    3.6  17.4935  21.2000  26.5716   35.1000  20.6716  429   \n",
              "3             6    3.6  16.9415  20.5000  25.2190   33.5000  19.8774  446   \n",
              "4             4    2.4  24.7726  31.9796  35.5340   51.8816  28.6813  310   \n",
              "...         ...    ...      ...      ...      ...       ...      ...  ...   \n",
              "3924          4    1.8  55.2206  78.8197  53.0000   73.6525  54.4329   78   \n",
              "3925          4    2.0  39.0000  55.9000  44.3066   64.0000  41.0000  217   \n",
              "3926          4    2.0  40.0000  56.0000  46.0000   64.0000  42.0000  212   \n",
              "3927          6    3.4  19.2200  24.2000  30.2863   43.4000  23.0021  387   \n",
              "3928          6    3.4  18.0431  22.6000  27.0000   39.3000  21.3945  417   \n",
              "\n",
              "      feScore  ghgScore  \n",
              "0           4         4  \n",
              "1           6         6  \n",
              "2           5         5  \n",
              "3           5         5  \n",
              "4           8         8  \n",
              "...       ...       ...  \n",
              "3924       10        10  \n",
              "3925        9         9  \n",
              "3926        9         9  \n",
              "3927        5         5  \n",
              "3928        4         4  \n",
              "\n",
              "[3929 rows x 10 columns]"
            ]
          },
          "execution_count": 95,
          "metadata": {},
          "output_type": "execute_result"
        }
      ],
      "source": [
        "numeric_cols = df.select_dtypes(include='number').drop(\n",
        "    columns=[\"id\", \"year\", \"pv2\", \"pv4\"],\n",
        "    errors='ignore'\n",
        ")\n",
        "numeric_cols"
      ]
    },
    {
      "cell_type": "markdown",
      "metadata": {},
      "source": [
        "### Step 1: Standardize the Data along the Features"
      ]
    },
    {
      "cell_type": "code",
      "execution_count": 96,
      "metadata": {},
      "outputs": [
        {
          "data": {
            "text/plain": [
              "array([[ 0.28310163,  0.65053594, -0.85996012, ...,  1.02283829,\n",
              "        -0.95057953, -0.94575548],\n",
              "       [-0.78181585, -0.72799833,  0.00642675, ..., -0.29854998,\n",
              "         0.1886082 ,  0.1942578 ],\n",
              "       [ 0.28310163,  0.49736547, -0.69441634, ...,  0.56793413,\n",
              "        -0.38098566, -0.37574884],\n",
              "       ...,\n",
              "       [-0.78181585, -0.72799833,  2.90923103, ..., -1.78240402,\n",
              "         1.89738979,  1.90427772],\n",
              "       [ 0.28310163,  0.34419499, -0.41797632, ...,  0.11302997,\n",
              "        -0.38098566, -0.37574884],\n",
              "       [ 0.28310163,  0.34419499, -0.60641667, ...,  0.43796152,\n",
              "        -0.95057953, -0.94575548]])"
            ]
          },
          "execution_count": 96,
          "metadata": {},
          "output_type": "execute_result"
        }
      ],
      "source": [
        "standardized_data = scaler.fit_transform(numeric_cols)\n",
        "standardized_data"
      ]
    },
    {
      "cell_type": "markdown",
      "metadata": {},
      "source": [
        "### Step 2: Calculate the Covariance Matrix"
      ]
    },
    {
      "cell_type": "code",
      "execution_count": 97,
      "metadata": {},
      "outputs": [
        {
          "name": "stdout",
          "output_type": "stream",
          "text": [
            "[[ 1.00025458  0.93411019 -0.69327904 -0.66619842 -0.76646982 -0.77169964\n",
            "  -0.73821112  0.84848979 -0.78405759 -0.78201448]\n",
            " [ 0.93411019  1.00025458 -0.71366074 -0.6863403  -0.78418374 -0.78865771\n",
            "  -0.75859024  0.85559254 -0.7936343  -0.79141752]\n",
            " [-0.69327904 -0.71366074  1.00025458  0.99663082  0.9156677   0.90989004\n",
            "   0.98980432 -0.90453509  0.9059112   0.89902154]\n",
            " [-0.66619842 -0.6863403   0.99663082  1.00025458  0.89978578  0.89804238\n",
            "   0.98135571 -0.8860481   0.89152389  0.88468357]\n",
            " [-0.76646982 -0.78418374  0.9156677   0.89978578  1.00025458  0.99244327\n",
            "   0.9630022  -0.91668944  0.91434884  0.89781322]\n",
            " [-0.77169964 -0.78865771  0.90989004  0.89804238  0.99244327  1.00025458\n",
            "   0.95682339 -0.91234956  0.91158665  0.89454192]\n",
            " [-0.73821112 -0.75859024  0.98980432  0.98135571  0.9630022   0.95682339\n",
            "   1.00025458 -0.92963549  0.92909879  0.91904062]\n",
            " [ 0.84848979  0.85559254 -0.90453509 -0.8860481  -0.91668944 -0.91234956\n",
            "  -0.92963549  1.00025458 -0.94086368 -0.94480617]\n",
            " [-0.78405759 -0.7936343   0.9059112   0.89152389  0.91434884  0.91158665\n",
            "   0.92909879 -0.94086368  1.00025458  0.99448412]\n",
            " [-0.78201448 -0.79141752  0.89902154  0.88468357  0.89781322  0.89454192\n",
            "   0.91904062 -0.94480617  0.99448412  1.00025458]]\n"
          ]
        }
      ],
      "source": [
        "cov_matrix = np.cov(standardized_data, rowvar=False)\n",
        "\n",
        "print(cov_matrix)"
      ]
    },
    {
      "cell_type": "markdown",
      "metadata": {},
      "source": [
        "### Step 3: Eigendecomposition on the Covariance Matrix"
      ]
    },
    {
      "cell_type": "code",
      "execution_count": 98,
      "metadata": {},
      "outputs": [
        {
          "name": "stdout",
          "output_type": "stream",
          "text": [
            "[8.84730337e+00 6.67702093e-01 1.97957320e-01 1.56642445e-01\n",
            " 6.56749106e-02 5.09901088e-02 9.38311059e-03 4.31401016e-03\n",
            " 2.18409060e-03 3.94363265e-04]\n",
            "[[ 0.28375385  0.61039118 -0.09948505 -0.17154364 -0.67605413  0.22329265\n",
            "   0.01770715 -0.0176749  -0.00671151  0.00144201]\n",
            " [ 0.28822685  0.574993   -0.15926252 -0.17324798  0.72616419  0.0557668\n",
            "  -0.00273307 -0.00409296 -0.02083836 -0.00678931]\n",
            " [-0.32030196  0.30620037  0.09908369  0.41454238  0.00213767 -0.06720823\n",
            "  -0.16862221 -0.02277963 -0.46306804  0.61162009]\n",
            " [-0.31547813  0.34876194  0.10595195  0.46257394  0.01089318 -0.12215146\n",
            "   0.33984451  0.02217467  0.64178886 -0.10353553]\n",
            " [-0.32427103  0.1027842   0.34015226 -0.48319392  0.01686264  0.02430184\n",
            "  -0.5610654   0.08043514  0.40976055  0.21227566]\n",
            " [-0.32370216  0.08856727  0.35907789 -0.49252161  0.01883343 -0.05236185\n",
            "   0.66322021  0.00801798 -0.26737839  0.03667809]\n",
            " [-0.32863234  0.22969644  0.17498666  0.11316021 -0.00210197 -0.03232589\n",
            "  -0.30850687  0.01207257 -0.36163864 -0.75409591]\n",
            " [ 0.32687648  0.08840237  0.18256083 -0.04769467 -0.10172284 -0.90752289\n",
            "  -0.06579423  0.10450965 -0.02312957 -0.00144992]\n",
            " [-0.32469981  0.04025795 -0.51982552 -0.20476158 -0.04722917 -0.2814815\n",
            "  -0.03081223 -0.70486561  0.03933822 -0.00293197]\n",
            " [-0.32260972  0.02841143 -0.60405872 -0.14722996 -0.04787028 -0.14277814\n",
            "   0.02531899  0.69586103 -0.03059213  0.00868895]]\n"
          ]
        }
      ],
      "source": [
        "eigenvalues, eigenvectors = np.linalg.eig(cov_matrix)\n",
        "print(eigenvalues)\n",
        "print(eigenvectors)"
      ]
    },
    {
      "cell_type": "markdown",
      "metadata": {},
      "source": [
        "### Step 4: Sort the Principal Components"
      ]
    },
    {
      "cell_type": "code",
      "execution_count": 99,
      "metadata": {},
      "outputs": [
        {
          "name": "stdout",
          "output_type": "stream",
          "text": [
            "the order of importance is :\n",
            " [0 1 2 3 4 5 6 7 8 9]\n",
            "\n",
            "\n",
            " sorted eigen values:\n",
            "[8.84730337e+00 6.67702093e-01 1.97957320e-01 1.56642445e-01\n",
            " 6.56749106e-02 5.09901088e-02 9.38311059e-03 4.31401016e-03\n",
            " 2.18409060e-03 3.94363265e-04]\n",
            "\n",
            "\n",
            " The sorted eigen vector matrix is: \n",
            " [[ 0.28375385  0.61039118 -0.09948505 -0.17154364 -0.67605413  0.22329265\n",
            "   0.01770715 -0.0176749  -0.00671151  0.00144201]\n",
            " [ 0.28822685  0.574993   -0.15926252 -0.17324798  0.72616419  0.0557668\n",
            "  -0.00273307 -0.00409296 -0.02083836 -0.00678931]\n",
            " [-0.32030196  0.30620037  0.09908369  0.41454238  0.00213767 -0.06720823\n",
            "  -0.16862221 -0.02277963 -0.46306804  0.61162009]\n",
            " [-0.31547813  0.34876194  0.10595195  0.46257394  0.01089318 -0.12215146\n",
            "   0.33984451  0.02217467  0.64178886 -0.10353553]\n",
            " [-0.32427103  0.1027842   0.34015226 -0.48319392  0.01686264  0.02430184\n",
            "  -0.5610654   0.08043514  0.40976055  0.21227566]\n",
            " [-0.32370216  0.08856727  0.35907789 -0.49252161  0.01883343 -0.05236185\n",
            "   0.66322021  0.00801798 -0.26737839  0.03667809]\n",
            " [-0.32863234  0.22969644  0.17498666  0.11316021 -0.00210197 -0.03232589\n",
            "  -0.30850687  0.01207257 -0.36163864 -0.75409591]\n",
            " [ 0.32687648  0.08840237  0.18256083 -0.04769467 -0.10172284 -0.90752289\n",
            "  -0.06579423  0.10450965 -0.02312957 -0.00144992]\n",
            " [-0.32469981  0.04025795 -0.51982552 -0.20476158 -0.04722917 -0.2814815\n",
            "  -0.03081223 -0.70486561  0.03933822 -0.00293197]\n",
            " [-0.32260972  0.02841143 -0.60405872 -0.14722996 -0.04787028 -0.14277814\n",
            "   0.02531899  0.69586103 -0.03059213  0.00868895]]\n"
          ]
        }
      ],
      "source": [
        "order_of_importance = np.argsort(eigenvalues)[::-1]\n",
        "print('the order of importance is :\\n {}'.format(order_of_importance))\n",
        "\n",
        "# utilize the sort order to sort eigenvalues and eigenvectors\n",
        "sorted_eigenvalues = eigenvalues[order_of_importance]\n",
        "\n",
        "print('\\n\\n sorted eigen values:\\n{}'.format(sorted_eigenvalues))\n",
        "sorted_eigenvectors = eigenvectors[:, order_of_importance]\n",
        "print('\\n\\n The sorted eigen vector matrix is: \\n {}'.format(sorted_eigenvectors))"
      ]
    },
    {
      "cell_type": "code",
      "execution_count": 100,
      "metadata": {},
      "outputs": [
        {
          "name": "stdout",
          "output_type": "stream",
          "text": [
            "['88.45%', '6.68%', '1.98%', '1.57%', '0.66%', '0.51%', '0.09%', '0.04%', '0.02%', '0.00%']\n"
          ]
        }
      ],
      "source": [
        "explained_variance = sorted_eigenvalues / np.sum(sorted_eigenvalues) * 100\n",
        "explained_variance = [\"{:.2f}%\".format(value) for value in explained_variance]\n",
        "print(explained_variance)"
      ]
    },
    {
      "cell_type": "code",
      "execution_count": 101,
      "metadata": {},
      "outputs": [],
      "source": [
        "k = 2\n",
        "top_k_eigenvectors = eigenvectors[:, :k]\n",
        "reduced_data = np.matmul(standardized_data, top_k_eigenvectors)"
      ]
    },
    {
      "cell_type": "code",
      "execution_count": 102,
      "metadata": {},
      "outputs": [
        {
          "name": "stdout",
          "output_type": "stream",
          "text": [
            "[[ 2.96093605 -0.47606835]\n",
            " [-0.68908233 -0.91603194]\n",
            " [ 1.80755222 -0.28629287]\n",
            " ...\n",
            " [-6.7460631   2.19200837]\n",
            " [ 0.78953126  0.02162714]\n",
            " [ 1.79979564 -0.26809069]]\n"
          ]
        }
      ],
      "source": [
        "print(reduced_data)"
      ]
    },
    {
      "cell_type": "code",
      "execution_count": 103,
      "metadata": {},
      "outputs": [
        {
          "name": "stdout",
          "output_type": "stream",
          "text": [
            "(3929, 2)\n"
          ]
        }
      ],
      "source": [
        "print(reduced_data.shape)"
      ]
    }
  ],
  "metadata": {
    "colab": {
      "provenance": []
    },
    "kernelspec": {
      "display_name": "Python 3",
      "name": "python3"
    },
    "language_info": {
      "codemirror_mode": {
        "name": "ipython",
        "version": 3
      },
      "file_extension": ".py",
      "mimetype": "text/x-python",
      "name": "python",
      "nbconvert_exporter": "python",
      "pygments_lexer": "ipython3",
      "version": "3.10.9"
    }
  },
  "nbformat": 4,
  "nbformat_minor": 0
}
